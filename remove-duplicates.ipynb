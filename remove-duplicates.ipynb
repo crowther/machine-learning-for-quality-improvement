{
 "cells": [
  {
   "cell_type": "code",
   "execution_count": 2,
   "metadata": {},
   "outputs": [],
   "source": [
    "import csv\n",
    "import datetime\n",
    "import pickle\n",
    "import sys\n",
    "import timeit\n",
    "\n",
    "import pandas as pd\n",
    "from sklearn.model_selection import train_test_split"
   ]
  },
  {
   "cell_type": "code",
   "execution_count": 3,
   "metadata": {},
   "outputs": [],
   "source": [
    "INPUT_IN_FILE = 'input/danWhyStopFlaggingIn.txt'\n",
    "INPUT_OUT_FILE = 'input/danWhyStopFlaggingOut.txt'\n",
    "INPUT_RECORDS_FILE = 'input/danWhyStopFlaggingRecords.txt'\n",
    "INPUT_DEMOGRAPHICS_FILE = 'input/danWhyStopFlaggingDemographics.txt'\n",
    "PREPROCESS_OUTPUT_FILE = 'preprocess_start.txt'\n",
    "TEST_SIZE = 0.2"
   ]
  },
  {
   "cell_type": "code",
   "execution_count": 4,
   "metadata": {},
   "outputs": [
    {
     "name": "stdout",
     "output_type": "stream",
     "text": [
      "c:\\users\\space\\.virtualenvs\\machine-learning-n1lcc53y\\lib\\site-packages\\ipykernel_launcher.py started at 2018-10-21 16:58:13.443354\n"
     ]
    }
   ],
   "source": [
    "script_start_time = datetime.datetime.now()\n",
    "print('{} started at {}'.format(sys.argv[0], script_start_time))"
   ]
  },
  {
   "cell_type": "code",
   "execution_count": 5,
   "metadata": {},
   "outputs": [
    {
     "name": "stdout",
     "output_type": "stream",
     "text": [
      "Reading data... done in 41.62s\n"
     ]
    }
   ],
   "source": [
    "# Read data\n",
    "print('Reading data...', end='')\n",
    "start_time = timeit.default_timer()\n",
    "in_df = pd.read_csv(INPUT_IN_FILE, parse_dates=['DateStartedFlagging'])\n",
    "out_df = pd.read_csv(INPUT_OUT_FILE, parse_dates=['DateStoppedFlagging'])\n",
    "FLAGGING_START_DATE, FLAGGING_END_DATE = in_df.DateStartedFlagging.min(), out_df.DateStoppedFlagging.max()\n",
    "demographics_df = pd.read_csv(INPUT_DEMOGRAPHICS_FILE, index_col=['PatID'])\n",
    "demographics_df.Sex.replace(['F', 'M'], [0, 1], inplace=True)\n",
    "records_df = pd.read_csv(INPUT_RECORDS_FILE, index_col=['EntryDate'], parse_dates=['EntryDate'], encoding = \"ISO-8859-1\")\n",
    "records_df = records_df.loc[records_df.index > '2009-03-30', :]\n",
    "RECORDS_START_DATE, RECORDS_END_DATE = records_df.index.min(), records_df.index.max()\n",
    "print(' done in {:.2f}s'.format(timeit.default_timer() - start_time), flush=True)"
   ]
  },
  {
   "cell_type": "code",
   "execution_count": 7,
   "metadata": {},
   "outputs": [],
   "source": [
    "records_df.reset_index(inplace=True)"
   ]
  },
  {
   "cell_type": "code",
   "execution_count": 9,
   "metadata": {},
   "outputs": [],
   "source": [
    "without_dupe_groups_df = records_df.drop_duplicates(subset=['EntryDate', 'PatID', 'ReadCode'])"
   ]
  },
  {
   "cell_type": "code",
   "execution_count": 11,
   "metadata": {},
   "outputs": [
    {
     "name": "stderr",
     "output_type": "stream",
     "text": [
      "c:\\users\\space\\.virtualenvs\\machine-learning-n1lcc53y\\lib\\site-packages\\pandas\\core\\generic.py:4405: SettingWithCopyWarning: \n",
      "A value is trying to be set on a copy of a slice from a DataFrame.\n",
      "Try using .loc[row_indexer,col_indexer] = value instead\n",
      "\n",
      "See the caveats in the documentation: http://pandas.pydata.org/pandas-docs/stable/indexing.html#indexing-view-versus-copy\n",
      "  self[name] = value\n"
     ]
    }
   ],
   "source": [
    "without_dupe_groups_df.Rubric = without_dupe_groups_df.Rubric.str[:57]"
   ]
  },
  {
   "cell_type": "code",
   "execution_count": 12,
   "metadata": {},
   "outputs": [],
   "source": [
    "without_dupe_readcodes_df = without_dupe_groups_df.drop_duplicates(subset=['EntryDate', 'PatID', 'Rubric'])"
   ]
  },
  {
   "cell_type": "code",
   "execution_count": 14,
   "metadata": {},
   "outputs": [],
   "source": [
    "without_dupe_readcodes_df.set_index('EntryDate', inplace=True)"
   ]
  },
  {
   "cell_type": "code",
   "execution_count": 16,
   "metadata": {},
   "outputs": [],
   "source": [
    "without_dupe_readcodes_df.to_csv('input/danWhyStopFlaggingRecordsWithoutDuplicateGroupsOrCodes.txt')"
   ]
  }
 ],
 "metadata": {
  "kernelspec": {
   "display_name": "Python 3",
   "language": "python",
   "name": "python3"
  },
  "language_info": {
   "codemirror_mode": {
    "name": "ipython",
    "version": 3
   },
   "file_extension": ".py",
   "mimetype": "text/x-python",
   "name": "python",
   "nbconvert_exporter": "python",
   "pygments_lexer": "ipython3",
   "version": "3.6.6"
  }
 },
 "nbformat": 4,
 "nbformat_minor": 2
}
