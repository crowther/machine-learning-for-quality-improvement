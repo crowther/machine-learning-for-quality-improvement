{
 "cells": [
  {
   "cell_type": "code",
   "execution_count": null,
   "metadata": {},
   "outputs": [],
   "source": [
    "import datetime\n",
    "import pickle\n",
    "import sys\n",
    "import timeit\n",
    "\n",
    "import pandas as pd\n",
    "import numpy as np\n",
    "from keras.models import Sequential\n",
    "from keras.layers import Dense, LSTM, Flatten\n",
    "from keras.layers.embeddings import Embedding\n",
    "from keras.preprocessing.text import Tokenizer\n",
    "from keras.preprocessing.sequence import pad_sequences\n",
    "from keras.utils import to_categorical\n",
    "from sklearn.preprocessing import LabelEncoder\n",
    "from sklearn.model_selection import train_test_split"
   ]
  },
  {
   "cell_type": "code",
   "execution_count": null,
   "metadata": {},
   "outputs": [],
   "source": [
    "OUTPUT_TRAIN_DF_FILE = 'output/train-df.pkl'\n",
    "OUTPUT_TEST_DF_FILE = 'output/test-df.pkl'\n",
    "OUTPUT_TOK_FILE = 'output/tok.pkl'\n",
    "OUTPUT_X_TRAIN_FILE = 'output/encoded-X-train.pkl'\n",
    "OUTPUT_X_TEST_FILE = 'output/encoded-X-test.pkl'\n",
    "OUTPUT_Y_TRAIN_FILE = 'output/encoded-y-train.pkl'\n",
    "OUTPUT_Y_TEST_FILE = 'output/encoded-y-test.pkl'\n",
    "OUTPUT_MODEL_FILE = 'output/lstm-rnn-model.h5'\n",
    "OUTPUT_RESULTS_FILE = 'output/lstm-rnn-results.pkl'\n",
    "\n",
    "TEST_SIZE = 0.2\n",
    "TIMESTEPS = 200\n",
    "BATCH_SIZE = 4\n",
    "OUTPUT_SIZE = 32"
   ]
  },
  {
   "cell_type": "code",
   "execution_count": null,
   "metadata": {},
   "outputs": [],
   "source": [
    "script_start_time = datetime.datetime.now()\n",
    "print('{} started at {}'.format(sys.argv[0], script_start_time))"
   ]
  },
  {
   "cell_type": "code",
   "execution_count": null,
   "metadata": {},
   "outputs": [],
   "source": [
    "print('Reading data...', end='')\n",
    "start_time = timeit.default_timer()\n",
    "train_df = pd.read_pickle(OUTPUT_TRAIN_DF_FILE)\n",
    "test_df = pd.read_pickle(OUTPUT_TEST_DF_FILE)\n",
    "with open(OUTPUT_TOK_FILE, 'rb') as handle:\n",
    "    tok = pickle.load(handle)\n",
    "X_train = np.load(OUTPUT_X_TRAIN_FILE)\n",
    "X_test = np.load(OUTPUT_X_TEST_FILE)\n",
    "y_train = np.load(OUTPUT_Y_TRAIN_FILE)\n",
    "y_test = np.load(OUTPUT_Y_TEST_FILE)\n",
    "print(' done in {:.2f}s'.format(timeit.default_timer() - start_time), flush=True)"
   ]
  },
  {
   "cell_type": "code",
   "execution_count": null,
   "metadata": {},
   "outputs": [],
   "source": [
    "VOCAB_SIZE = len(tok.word_index) + 1"
   ]
  },
  {
   "cell_type": "code",
   "execution_count": null,
   "metadata": {},
   "outputs": [],
   "source": [
    "print('Encoding training and testing labels...', end='')\n",
    "start_time = timeit.default_timer()\n",
    "le_train = LabelEncoder().fit(y_train.unique().tolist())\n",
    "y_train = to_categorical(le_train.transform(y_train))\n",
    "\n",
    "le_test = LabelEncoder().fit(y_test.unique().tolist())\n",
    "y_test = to_categorical(le_test.transform(y_test))\n",
    "print(' done in {:.2f}s'.format(timeit.default_timer() - start_time), flush=True)"
   ]
  },
  {
   "cell_type": "code",
   "execution_count": null,
   "metadata": {},
   "outputs": [],
   "source": [
    "def create_model():\n",
    "    model = Sequential()\n",
    "    model.add(Embedding(input_dim=VOCAB_SIZE, output_dim=OUTPUT_SIZE, input_length=TIMESTEPS, batch_input_shape=(BATCH_SIZE, TIMESTEPS)))\n",
    "    model.add(LSTM(units=32, batch_input_shape=(BATCH_SIZE, TIMESTEPS, OUTPUT_SIZE), stateful=True, return_sequences=False))\n",
    "    model.add(Dense(units=3, activation='softmax'))\n",
    "    model.compile(loss='categorical_crossentropy', optimizer='adam', metrics=['categorical_accuracy'])\n",
    "    print(model.summary())\n",
    "    model.fit(X_train, y_train, validation_data=(X_test, y_test), epochs=1, batch_size=BATCH_SIZE)\n",
    "    return model"
   ]
  },
  {
   "cell_type": "code",
   "execution_count": null,
   "metadata": {},
   "outputs": [],
   "source": [
    "print('Training model...', end='')\n",
    "start_time = timeit.default_timer()\n",
    "model = create_model()\n",
    "print(' done in {:.2f}s'.format(timeit.default_timer() - start_time), flush=True)"
   ]
  },
  {
   "cell_type": "code",
   "execution_count": null,
   "metadata": {},
   "outputs": [],
   "source": [
    "model.save(OUTPUT_MODEL_FILE)"
   ]
  },
  {
   "cell_type": "code",
   "execution_count": null,
   "metadata": {},
   "outputs": [],
   "source": [
    "print('Making predictions...', end='')\n",
    "start_time = timeit.default_timer()\n",
    "y_train_prob = model.predict(X_train, batch_size=BATCH_SIZE)\n",
    "y_train_pred = y_train_prob.argmax(axis=-1)\n",
    "y_train_actual = y_train.argmax(axis=-1)\n",
    "train_df.loc[:, 'PredictedReason'] = le_train.inverse_transform(list(y_train_pred))\n",
    "train_df.loc[:, 'ActualReason'] = le_train.inverse_transform(list(y_train_actual))\n",
    "\n",
    "y_test_prob = model.predict(X_test, batch_size=BATCH_SIZE)\n",
    "y_test_pred = y_test_prob.argmax(axis=-1)\n",
    "y_test_actual = y_test.argmax(axis=-1)\n",
    "test_df.loc[:, 'PredictedReason'] = le_test.inverse_transform(list(y_test_pred))\n",
    "test_df.loc[:, 'ActualReason'] = le_test.inverse_transform(list(y_test_actual))\n",
    "print(' done in {:.2f}s'.format(timeit.default_timer() - start_time), flush=True)"
   ]
  },
  {
   "cell_type": "code",
   "execution_count": null,
   "metadata": {},
   "outputs": [],
   "source": [
    "results_df = pd.concat([train_df, test_df])\n",
    "cols = list(train_df.columns.values)\n",
    "results_df = results_df[cols]"
   ]
  },
  {
   "cell_type": "code",
   "execution_count": null,
   "metadata": {},
   "outputs": [],
   "source": [
    "results_df.to_pickle(OUTPUT_RESULTS_FILE)"
   ]
  }
 ],
 "metadata": {
  "kernelspec": {
   "display_name": "Python 3",
   "language": "python",
   "name": "python3"
  },
  "language_info": {
   "codemirror_mode": {
    "name": "ipython",
    "version": 3
   },
   "file_extension": ".py",
   "mimetype": "text/x-python",
   "name": "python",
   "nbconvert_exporter": "python",
   "pygments_lexer": "ipython3",
   "version": "3.6.6"
  }
 },
 "nbformat": 4,
 "nbformat_minor": 2
}
