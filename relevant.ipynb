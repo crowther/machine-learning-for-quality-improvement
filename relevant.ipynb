{
 "cells": [
  {
   "cell_type": "code",
   "execution_count": 1,
   "metadata": {},
   "outputs": [],
   "source": [
    "import pandas as pd"
   ]
  },
  {
   "cell_type": "code",
   "execution_count": 2,
   "metadata": {},
   "outputs": [],
   "source": [
    "INPUT_FLAGGING_DF_FILE = 'output/generate-flagging-periods.pkl'\n",
    "INPUT_RECORDS_FILE = 'input/danWhyStopFlaggingRecordsWithoutDuplicateGroupsOrCodes.txt'\n",
    "INPUT_DEMOGRAPHICS_FILE = 'input/danWhyStopFlaggingDemographics.txt'\n",
    "\n",
    "OUTPUT_RELEVANT_DF_FILE = 'output/relevant_df.pkl'\n",
    "\n",
    "WINDOW = pd.DateOffset(months=1)"
   ]
  },
  {
   "cell_type": "code",
   "execution_count": 3,
   "metadata": {},
   "outputs": [],
   "source": [
    "flagging_df = pd.read_pickle(INPUT_FLAGGING_DF_FILE)\n",
    "demographics_df = pd.read_csv(INPUT_DEMOGRAPHICS_FILE, index_col=['PatID'])\n",
    "demographics_df.Sex.replace(['F', 'M'], [0, 1], inplace=True)\n",
    "records_df = pd.read_csv(INPUT_RECORDS_FILE, index_col=['EntryDate'], parse_dates=['EntryDate'], encoding = \"ISO-8859-1\")\n",
    "records_df = records_df.loc[records_df.index > '2009-03-30', :]\n",
    "RECORDS_START_DATE, RECORDS_END_DATE = records_df.index.min(), records_df.index.max()"
   ]
  },
  {
   "cell_type": "code",
   "execution_count": 4,
   "metadata": {},
   "outputs": [],
   "source": [
    "def generate_relevant_df(all_flagging_df, all_records_df):\n",
    "    entry_dates = records_df.index.get_level_values('EntryDate')\n",
    "    relevant_dfs = []\n",
    "    for row in all_flagging_df.itertuples():\n",
    "        pt, start_date, stop_date, reason = row.Index[0], row.Index[1], row.Index[2], row.ReasonStoppedFlagging\n",
    "        start_age, stop_age = row.AgeAtFlagging, row.AgeAtStopFlagging\n",
    "        flag_count, year_started_flagging, year_stopped_flagging = row.FlagCount, row.YearStartedFlagging, row.YearStoppedFlagging\n",
    "        is_pt_and_relevant = ((pt == records_df.PatID) & (entry_dates > (start_date - WINDOW)) & (entry_dates < (stop_date + WINDOW)))\n",
    "        relevant_records_df = all_records_df.loc[is_pt_and_relevant, :]\n",
    "        if relevant_records_df.empty:\n",
    "            continue\n",
    "        readcode_text = generate_readcode_text(relevant_records_df)\n",
    "        relevant_dfs.append(pd.DataFrame(\n",
    "            data={'PatID': [pt], 'StartDate': [start_date], 'StopDate': [stop_date], 'Reason': [reason], 'ReadCodeText': [readcode_text]}, \n",
    "            columns=['PatID', 'StartDate', 'StopDate', 'Reason', 'ReadCodeText']\n",
    "        ))\n",
    "    return pd.concat(relevant_dfs, ignore_index=True)\n",
    "        \n",
    "def generate_readcode_text(relevant_records_df):\n",
    "    text = relevant_records_df.ReadCode.to_string(header=False, index=False).splitlines()\n",
    "    return ' '.join([t.strip() for t in text])\n",
    "\n",
    "relevant_df = generate_relevant_df(flagging_df, records_df)"
   ]
  },
  {
   "cell_type": "code",
   "execution_count": 5,
   "metadata": {},
   "outputs": [],
   "source": [
    "relevant_df.to_pickle(OUTPUT_RELEVANT_DF_FILE)"
   ]
  }
 ],
 "metadata": {
  "kernelspec": {
   "display_name": "Python 3",
   "language": "python",
   "name": "python3"
  },
  "language_info": {
   "codemirror_mode": {
    "name": "ipython",
    "version": 3
   },
   "file_extension": ".py",
   "mimetype": "text/x-python",
   "name": "python",
   "nbconvert_exporter": "python",
   "pygments_lexer": "ipython3",
   "version": "3.6.7"
  }
 },
 "nbformat": 4,
 "nbformat_minor": 2
}
