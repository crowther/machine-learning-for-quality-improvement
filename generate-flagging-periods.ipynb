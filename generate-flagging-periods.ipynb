{
 "cells": [
  {
   "cell_type": "code",
   "execution_count": null,
   "metadata": {},
   "outputs": [],
   "source": [
    "import csv\n",
    "import datetime\n",
    "import pickle\n",
    "import sys\n",
    "import timeit\n",
    "\n",
    "import pandas as pd"
   ]
  },
  {
   "cell_type": "code",
   "execution_count": null,
   "metadata": {},
   "outputs": [],
   "source": [
    "INPUT_IN_FILE = 'input/danWhyStopFlaggingIn.txt'\n",
    "INPUT_OUT_FILE = 'input/danWhyStopFlaggingOut.txt'\n",
    "PREPROCESS_OUTPUT_FILE = 'preprocess_start.txt'\n",
    "TEST_SIZE = 0.2"
   ]
  },
  {
   "cell_type": "code",
   "execution_count": null,
   "metadata": {
    "scrolled": true
   },
   "outputs": [],
   "source": [
    "script_start_time = datetime.datetime.now()\n",
    "print('{} started at {}'.format(sys.argv[0], script_start_time))"
   ]
  },
  {
   "cell_type": "code",
   "execution_count": null,
   "metadata": {},
   "outputs": [],
   "source": [
    "print('Reading data...', end='')\n",
    "start_time = timeit.default_timer()\n",
    "in_df = pd.read_csv(INPUT_IN_FILE, parse_dates=['DateStartedFlagging'])\n",
    "in_df = in_df.loc[in_df.DateStartedFlagging > '2009-03-30', :]\n",
    "out_df = pd.read_csv(INPUT_OUT_FILE, parse_dates=['DateStoppedFlagging'])\n",
    "out_df = out_df.loc[out_df.DateStoppedFlagging > '2009-03-30', :]\n",
    "FLAGGING_START_DATE, FLAGGING_END_DATE = in_df.DateStartedFlagging.min(), out_df.DateStoppedFlagging.max()\n",
    "print(' done in {:.2f}s'.format(timeit.default_timer() - start_time), flush=True)"
   ]
  },
  {
   "cell_type": "code",
   "execution_count": null,
   "metadata": {},
   "outputs": [],
   "source": [
    "def generate_flagging_periods(patid):\n",
    "    df_list = []\n",
    "    def append_to_df(patid, start_date, start_age, stop_date, stop_age, reason, flag_count, year_started_flagging, year_stopped_flagging):\n",
    "        df_list.append(pd.DataFrame(\n",
    "                {\n",
    "                 'PatID': [patid], \n",
    "                 'DateStartedFlagging': [start_date], \n",
    "                 'AgeAtFlagging': [start_age],\n",
    "                 'DateStoppedFlagging': [stop_date], \n",
    "                 'AgeAtStopFlagging': [stop_age],\n",
    "                 'ReasonStoppedFlagging': [reason],\n",
    "                 'FlagCount': [flag_count],\n",
    "                 'YearStartedFlagging': [year_started_flagging],\n",
    "                 'YearStoppedFlagging': [year_stopped_flagging]\n",
    "                },\n",
    "                columns=[\n",
    "                    'PatID', \n",
    "                    'DateStartedFlagging', \n",
    "                    'AgeAtFlagging', \n",
    "                    'DateStoppedFlagging', \n",
    "                    'AgeAtStopFlagging', \n",
    "                    'ReasonStoppedFlagging', \n",
    "                    'FlagCount', \n",
    "                    'YearStartedFlagging', \n",
    "                    'YearStoppedFlagging'\n",
    "                ]\n",
    "            )\n",
    "        )\n",
    "        \n",
    "    flag_count = 0\n",
    "    tmp_in_df = in_df.loc[in_df.PatID == patid, :]\n",
    "    tmp_out_df = out_df.loc[out_df.PatID == patid, :]\n",
    "    for _, in_row in tmp_in_df.iterrows():\n",
    "        start_date = in_row.DateStartedFlagging\n",
    "        start_age = in_row.AgeAtFlagging\n",
    "        stop_date = pd.Timestamp(FLAGGING_END_DATE)\n",
    "        latest = pd.Timestamp(FLAGGING_START_DATE)\n",
    "        reason = \"NOT_RESOLVED\"\n",
    "        flag_count += 1\n",
    "        year_started_flagging = in_row.DateStartedFlagging.year\n",
    "        for _, out_row in tmp_out_df.iterrows():\n",
    "            if out_row.DateStoppedFlagging > start_date and latest <= start_date:\n",
    "                latest = stop_date = out_row.DateStoppedFlagging\n",
    "                reason = out_row.ReasonStoppedFlagging\n",
    "                stop_age = out_row.AgeAtStopFlagging\n",
    "                year_stopped_flagging = out_row.DateStoppedFlagging.year\n",
    "                continue\n",
    "        append_to_df(patid, start_date, start_age, stop_date, stop_age, reason, flag_count, year_started_flagging, year_stopped_flagging)\n",
    "    return pd.concat(df_list)\n",
    "\n",
    "print('Preprocessing patients...', end='')\n",
    "start_time = timeit.default_timer()\n",
    "in_out_df_list = []\n",
    "for patid in in_df.PatID.unique():\n",
    "    in_out_df_list.append(generate_flagging_periods(patid))\n",
    "\n",
    "in_out_df = pd.concat(in_out_df_list).reset_index(drop=True)\n",
    "in_out_df.set_index(['PatID', 'DateStartedFlagging', 'DateStoppedFlagging'], inplace=True)\n",
    "print(' done in {:.2f}s'.format(timeit.default_timer() - start_time), flush=True )"
   ]
  },
  {
   "cell_type": "code",
   "execution_count": null,
   "metadata": {},
   "outputs": [],
   "source": [
    "display(in_out_df.sort_index())"
   ]
  },
  {
   "cell_type": "code",
   "execution_count": null,
   "metadata": {},
   "outputs": [],
   "source": [
    "in_out_df.to_pickle('output/generate-flagging-periods.pkl')"
   ]
  }
 ],
 "metadata": {
  "kernelspec": {
   "display_name": "Python 3",
   "language": "python",
   "name": "python3"
  },
  "language_info": {
   "codemirror_mode": {
    "name": "ipython",
    "version": 3
   },
   "file_extension": ".py",
   "mimetype": "text/x-python",
   "name": "python",
   "nbconvert_exporter": "python",
   "pygments_lexer": "ipython3",
   "version": "3.5.3"
  }
 },
 "nbformat": 4,
 "nbformat_minor": 2
}
